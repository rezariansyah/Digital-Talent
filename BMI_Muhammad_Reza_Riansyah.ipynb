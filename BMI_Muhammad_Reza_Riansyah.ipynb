{
 "cells": [
  {
   "cell_type": "markdown",
   "metadata": {},
   "source": [
    "#  Body Mass Index (BMI)\n",
    "Disini dapat menentukan sebuah keidealan berat badan terhadap tinggi badang, dengan memasukkan berat badan satuan kilogram(kg) dan tinggi badan satuan centimeter(cm)"
   ]
  },
  {
   "cell_type": "code",
   "execution_count": 1,
   "metadata": {},
   "outputs": [
    {
     "name": "stdout",
     "output_type": "stream",
     "text": [
      "Berat Badan Anda : 79.0\n",
      "Tinggi Badan Anda : 172.0\n",
      "NIlai BMI : 26.703623580313685\n",
      "Anda Tergolong dalam : Overweight\n"
     ]
    }
   ],
   "source": [
    "tinggi=172.0\n",
    "berat=79.0\n",
    "Mtinggi= tinggi*0.01\n",
    "BMI = berat / Mtinggi**2\n",
    "print (\"Berat Badan Anda :\",berat)\n",
    "print(\"Tinggi Badan Anda :\", tinggi)\n",
    "print (\"NIlai BMI :\",BMI)\n",
    "\n",
    "if BMI < 15 :\n",
    "    print (\"Anda Tergolong dalam : Very Severely Underweight\")\n",
    "elif BMI >= 15 and BMI < 16:\n",
    "    print (\"Anda Tergolong dalam : Severely Underweight\")  \n",
    "elif BMI >= 16 and BMI < 18.5:\n",
    "    print (\"Anda Tergolong dalam : Underweight\")  \n",
    "elif BMI >= 18.5 and BMI < 25 :\n",
    "    print (\"Anda Tergolong dalam : Normal (Healthy weight)\")  \n",
    "elif BMI >= 25 and BMI < 30:\n",
    "    print (\"Anda Tergolong dalam : Overweight\")  \n",
    "elif BMI >= 30 and BMI < 35:\n",
    "    print (\"Anda Tergolong dalam : Moderately Obese\")  \n",
    "elif BMI >= 35 and BMI < 40:\n",
    "    print (\"Anda Tergolong dalam : Severely Obese\")  \n",
    "elif BMI > 40:\n",
    "    print (\"Anda Tergolong dalam : Very Severely Obese\") \n",
    "\n"
   ]
  }
 ],
 "metadata": {
  "kernelspec": {
   "display_name": "Python 3",
   "language": "python",
   "name": "python3"
  },
  "language_info": {
   "codemirror_mode": {
    "name": "ipython",
    "version": 3
   },
   "file_extension": ".py",
   "mimetype": "text/x-python",
   "name": "python",
   "nbconvert_exporter": "python",
   "pygments_lexer": "ipython3",
   "version": "3.7.0"
  }
 },
 "nbformat": 4,
 "nbformat_minor": 2
}
