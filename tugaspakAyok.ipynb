{
 "cells": [
  {
   "cell_type": "code",
   "execution_count": 1,
   "metadata": {},
   "outputs": [
    {
     "name": "stderr",
     "output_type": "stream",
     "text": [
      "C:\\anaconda\\lib\\site-packages\\sklearn\\cross_validation.py:41: DeprecationWarning: This module was deprecated in version 0.18 in favor of the model_selection module into which all the refactored classes and functions are moved. Also note that the interface of the new CV iterators are different from that of this module. This module will be removed in 0.20.\n",
      "  \"This module will be removed in 0.20.\", DeprecationWarning)\n"
     ]
    }
   ],
   "source": [
    "import pandas as pd\n",
    "import numpy as np\n",
    "from sklearn.feature_extraction.text import CountVectorizer\n",
    "vect = CountVectorizer()\n",
    "from sklearn.feature_extraction.text import TfidfVectorizer\n",
    "from sklearn.cross_validation import train_test_split\n",
    "Data =[]\n",
    "Data.append({'text':'In the living room of a house in Banjarmasin South Kalimantan Zakaria was busy choosing a book from the shelf','sentiment':'0'})\n",
    "Data.append({'text':'The eleven year old sat in his wheelchair his right knee swollen and wrapped in bandages','sentiment':'0'})\n",
    "Data.append({'text':'Zakaria who hails from Barabai in Hulu Sungai Tengah Regency South Kalimantan suffers from bone cancer','sentiment':'1'})\n",
    "Data.append({'text':'His mother Masrah took him to the provincial capital Banjarmasin to receive medical treatment at the citys Ulin Regional Hospital','sentiment':'1'})\n",
    "Data.append({'text':'For the past two weeks both had been staying at the Rumahku My Home shelter for children with cancer','sentiment':'1'})\n",
    "Data.append({'text':'We have to go back and forth to the hospital so Im grateful we have a place to stay here Masrah said','sentiment':'1'})\n",
    "Data.append({'text':'At the shelter five other young patients were staying with their parents','sentiment':'1'})\n",
    "Data.append({'text':'All of them were from lower middleclass families including Herma Adam and her father Heri Suwarso','sentiment':'-1'})\n",
    "Data.append({'text':'Herma suffers from leukemia and has undergone chemotherapy since January two thousand and sixteen','sentiment':'-1'})\n",
    "Data.append({'text':'I took her to Ulin Hospital on reference from the state hospital at Batulicin in Tanah Bumbu Regency said Heri thirty five','sentiment':'0'})\n",
    "Data.append({'text':'Hermas doctors said she had to receive regular chemotherapy for two years','sentiment':'-1'})\n",
    "Data.append({'text':'After six months of medical treatment Heri said that his daughters cancer cells had shrunk to only one point five percent','sentiment':'1'})\n",
    "Data.append({'text':'But the doctor advised us to stay in Banjarmasin for a while until she is much better Heri said','sentiment':'0'})\n",
    "Data.append({'text':'Heri was hopeful that her daughter would make progress','sentiment':'1'})\n",
    "Data.append({'text':'At first the man who worked as a truck driver was worried that they would not be able to stay long in Banjarmasin for Hermas treatment because of the high costs','sentiment':'-1'})\n",
    "Data.append({'text':'But a nurse they came across in the Ulin Hospital lobby suggested they stay at the Rumahku shelter','sentiment':'1'})\n",
    "Data.append({'text':'It provides free accommodation for cancer patients from outside Banjarmasin','sentiment':'1'})\n",
    "Data.append({'text':'Heri took the nurses advice and moved in January','sentiment':'1'})\n",
    "Data.append({'text':'Not only did they get a place to stay the shelter also provided free pickup service from and to the hospital food and some medicine','sentiment':'1'})\n",
    "Data.append({'text':'Im thankful that we can stay here Heri said','sentiment':'0'})\n",
    "Data.append({'text':'He added that Hermas treatment was paid for by the national health insurance program','sentiment':'1'})\n"
   ]
  },
  {
   "cell_type": "code",
   "execution_count": 2,
   "metadata": {},
   "outputs": [
    {
     "data": {
      "text/html": [
       "<div>\n",
       "<style scoped>\n",
       "    .dataframe tbody tr th:only-of-type {\n",
       "        vertical-align: middle;\n",
       "    }\n",
       "\n",
       "    .dataframe tbody tr th {\n",
       "        vertical-align: top;\n",
       "    }\n",
       "\n",
       "    .dataframe thead th {\n",
       "        text-align: right;\n",
       "    }\n",
       "</style>\n",
       "<table border=\"1\" class=\"dataframe\">\n",
       "  <thead>\n",
       "    <tr style=\"text-align: right;\">\n",
       "      <th></th>\n",
       "      <th>sentiment</th>\n",
       "      <th>text</th>\n",
       "    </tr>\n",
       "  </thead>\n",
       "  <tbody>\n",
       "    <tr>\n",
       "      <th>0</th>\n",
       "      <td>0</td>\n",
       "      <td>In the living room of a house in Banjarmasin S...</td>\n",
       "    </tr>\n",
       "    <tr>\n",
       "      <th>1</th>\n",
       "      <td>0</td>\n",
       "      <td>The eleven year old sat in his wheelchair his ...</td>\n",
       "    </tr>\n",
       "    <tr>\n",
       "      <th>2</th>\n",
       "      <td>1</td>\n",
       "      <td>Zakaria who hails from Barabai in Hulu Sungai ...</td>\n",
       "    </tr>\n",
       "    <tr>\n",
       "      <th>3</th>\n",
       "      <td>1</td>\n",
       "      <td>His mother Masrah took him to the provincial c...</td>\n",
       "    </tr>\n",
       "    <tr>\n",
       "      <th>4</th>\n",
       "      <td>1</td>\n",
       "      <td>For the past two weeks both had been staying a...</td>\n",
       "    </tr>\n",
       "    <tr>\n",
       "      <th>5</th>\n",
       "      <td>1</td>\n",
       "      <td>We have to go back and forth to the hospital s...</td>\n",
       "    </tr>\n",
       "    <tr>\n",
       "      <th>6</th>\n",
       "      <td>1</td>\n",
       "      <td>At the shelter five other young patients were ...</td>\n",
       "    </tr>\n",
       "    <tr>\n",
       "      <th>7</th>\n",
       "      <td>-1</td>\n",
       "      <td>All of them were from lower middleclass famili...</td>\n",
       "    </tr>\n",
       "    <tr>\n",
       "      <th>8</th>\n",
       "      <td>-1</td>\n",
       "      <td>Herma suffers from leukemia and has undergone ...</td>\n",
       "    </tr>\n",
       "    <tr>\n",
       "      <th>9</th>\n",
       "      <td>0</td>\n",
       "      <td>I took her to Ulin Hospital on reference from ...</td>\n",
       "    </tr>\n",
       "    <tr>\n",
       "      <th>10</th>\n",
       "      <td>-1</td>\n",
       "      <td>Hermas doctors said she had to receive regular...</td>\n",
       "    </tr>\n",
       "    <tr>\n",
       "      <th>11</th>\n",
       "      <td>1</td>\n",
       "      <td>After six months of medical treatment Heri sai...</td>\n",
       "    </tr>\n",
       "    <tr>\n",
       "      <th>12</th>\n",
       "      <td>0</td>\n",
       "      <td>But the doctor advised us to stay in Banjarmas...</td>\n",
       "    </tr>\n",
       "    <tr>\n",
       "      <th>13</th>\n",
       "      <td>1</td>\n",
       "      <td>Heri was hopeful that her daughter would make ...</td>\n",
       "    </tr>\n",
       "    <tr>\n",
       "      <th>14</th>\n",
       "      <td>-1</td>\n",
       "      <td>At first the man who worked as a truck driver ...</td>\n",
       "    </tr>\n",
       "    <tr>\n",
       "      <th>15</th>\n",
       "      <td>1</td>\n",
       "      <td>But a nurse they came across in the Ulin Hospi...</td>\n",
       "    </tr>\n",
       "    <tr>\n",
       "      <th>16</th>\n",
       "      <td>1</td>\n",
       "      <td>It provides free accommodation for cancer pati...</td>\n",
       "    </tr>\n",
       "    <tr>\n",
       "      <th>17</th>\n",
       "      <td>1</td>\n",
       "      <td>Heri took the nurses advice and moved in January</td>\n",
       "    </tr>\n",
       "    <tr>\n",
       "      <th>18</th>\n",
       "      <td>1</td>\n",
       "      <td>Not only did they get a place to stay the shel...</td>\n",
       "    </tr>\n",
       "    <tr>\n",
       "      <th>19</th>\n",
       "      <td>0</td>\n",
       "      <td>Im thankful that we can stay here Heri said</td>\n",
       "    </tr>\n",
       "    <tr>\n",
       "      <th>20</th>\n",
       "      <td>1</td>\n",
       "      <td>He added that Hermas treatment was paid for by...</td>\n",
       "    </tr>\n",
       "  </tbody>\n",
       "</table>\n",
       "</div>"
      ],
      "text/plain": [
       "   sentiment                                               text\n",
       "0          0  In the living room of a house in Banjarmasin S...\n",
       "1          0  The eleven year old sat in his wheelchair his ...\n",
       "2          1  Zakaria who hails from Barabai in Hulu Sungai ...\n",
       "3          1  His mother Masrah took him to the provincial c...\n",
       "4          1  For the past two weeks both had been staying a...\n",
       "5          1  We have to go back and forth to the hospital s...\n",
       "6          1  At the shelter five other young patients were ...\n",
       "7         -1  All of them were from lower middleclass famili...\n",
       "8         -1  Herma suffers from leukemia and has undergone ...\n",
       "9          0  I took her to Ulin Hospital on reference from ...\n",
       "10        -1  Hermas doctors said she had to receive regular...\n",
       "11         1  After six months of medical treatment Heri sai...\n",
       "12         0  But the doctor advised us to stay in Banjarmas...\n",
       "13         1  Heri was hopeful that her daughter would make ...\n",
       "14        -1  At first the man who worked as a truck driver ...\n",
       "15         1  But a nurse they came across in the Ulin Hospi...\n",
       "16         1  It provides free accommodation for cancer pati...\n",
       "17         1   Heri took the nurses advice and moved in January\n",
       "18         1  Not only did they get a place to stay the shel...\n",
       "19         0        Im thankful that we can stay here Heri said\n",
       "20         1  He added that Hermas treatment was paid for by..."
      ]
     },
     "execution_count": 2,
     "metadata": {},
     "output_type": "execute_result"
    }
   ],
   "source": [
    "new_data = pd.DataFrame.from_dict(Data)\n",
    "new_data"
   ]
  },
  {
   "cell_type": "code",
   "execution_count": 3,
   "metadata": {},
   "outputs": [
    {
     "name": "stdout",
     "output_type": "stream",
     "text": [
      "(21,)\n",
      "(21,)\n"
     ]
    }
   ],
   "source": [
    "X = new_data.text\n",
    "y = new_data.sentiment\n",
    "print(X.shape)\n",
    "print(y.shape)"
   ]
  },
  {
   "cell_type": "code",
   "execution_count": 4,
   "metadata": {},
   "outputs": [
    {
     "name": "stdout",
     "output_type": "stream",
     "text": [
      "(18,)\n",
      "(3,)\n",
      "(18,)\n",
      "(3,)\n"
     ]
    }
   ],
   "source": [
    "X_train, X_test, y_train, y_test = train_test_split(X, y, test_size=0.1)\n",
    "print(X_train.shape)\n",
    "print(X_test.shape)\n",
    "print(y_train.shape)\n",
    "print(y_test.shape)"
   ]
  },
  {
   "cell_type": "code",
   "execution_count": 5,
   "metadata": {},
   "outputs": [],
   "source": [
    "vect.fit(X_train)\n",
    "X_train_dtm = vect.transform(X_train)\n"
   ]
  },
  {
   "cell_type": "code",
   "execution_count": 6,
   "metadata": {},
   "outputs": [
    {
     "data": {
      "text/plain": [
       "<3x174 sparse matrix of type '<class 'numpy.int64'>'\n",
       "\twith 25 stored elements in Compressed Sparse Row format>"
      ]
     },
     "execution_count": 6,
     "metadata": {},
     "output_type": "execute_result"
    }
   ],
   "source": [
    "X_test_dtm = vect.transform(X_test)\n",
    "X_test_dtm\n"
   ]
  },
  {
   "cell_type": "markdown",
   "metadata": {},
   "source": [
    "## SGDC CLassifer"
   ]
  },
  {
   "cell_type": "code",
   "execution_count": 84,
   "metadata": {},
   "outputs": [
    {
     "name": "stdout",
     "output_type": "stream",
     "text": [
      "Wall time: 0 ns\n"
     ]
    }
   ],
   "source": [
    "from sklearn.linear_model import SGDClassifier\n",
    "clf = SGDClassifier(loss=\"hinge\", penalty=\"l2\", max_iter=5)\n",
    "%time clf.fit(X_train_dtm, y_train)\n",
    "y_pred_class = clf.predict(X_test_dtm)"
   ]
  },
  {
   "cell_type": "code",
   "execution_count": 85,
   "metadata": {},
   "outputs": [
    {
     "data": {
      "text/plain": [
       "0.6666666666666666"
      ]
     },
     "execution_count": 85,
     "metadata": {},
     "output_type": "execute_result"
    }
   ],
   "source": [
    "from sklearn import metrics\n",
    "metrics.accuracy_score(y_test, y_pred_class)"
   ]
  },
  {
   "cell_type": "code",
   "execution_count": 86,
   "metadata": {},
   "outputs": [
    {
     "data": {
      "text/plain": [
       "array([[0, 1],\n",
       "       [0, 2]], dtype=int64)"
      ]
     },
     "execution_count": 86,
     "metadata": {},
     "output_type": "execute_result"
    }
   ],
   "source": [
    "metrics.confusion_matrix(y_test, y_pred_class)"
   ]
  },
  {
   "cell_type": "code",
   "execution_count": 87,
   "metadata": {},
   "outputs": [
    {
     "data": {
      "text/plain": [
       "array(['-1'], dtype='<U2')"
      ]
     },
     "execution_count": 87,
     "metadata": {},
     "output_type": "execute_result"
    }
   ],
   "source": [
    "test1 = ['regular for']\n",
    "new_article_vect = vect.transform(test1)\n",
    "clf.predict(new_article_vect)"
   ]
  },
  {
   "cell_type": "markdown",
   "metadata": {},
   "source": [
    "## Decision Tree"
   ]
  },
  {
   "cell_type": "code",
   "execution_count": 89,
   "metadata": {},
   "outputs": [
    {
     "name": "stdout",
     "output_type": "stream",
     "text": [
      "Wall time: 0 ns\n"
     ]
    }
   ],
   "source": [
    "from sklearn import tree\n",
    "from sklearn.metrics import accuracy_score\n",
    "clf = tree.DecisionTreeClassifier()\n",
    "%time clf.fit(X_train_dtm, y_train)\n",
    "y_pred_class = clf.predict(X_test_dtm)"
   ]
  },
  {
   "cell_type": "code",
   "execution_count": 90,
   "metadata": {},
   "outputs": [
    {
     "name": "stdout",
     "output_type": "stream",
     "text": [
      "Predicting...\n"
     ]
    }
   ],
   "source": [
    "print(\"Predicting...\")\n",
    "prediction = clf.predict(X_test_dtm)"
   ]
  },
  {
   "cell_type": "code",
   "execution_count": 91,
   "metadata": {},
   "outputs": [
    {
     "name": "stdout",
     "output_type": "stream",
     "text": [
      "Prediction: ['1' '1' '1']\n"
     ]
    }
   ],
   "source": [
    "print(\"Prediction:\",prediction)\n",
    "accuracy = accuracy_score(y_test, prediction)"
   ]
  },
  {
   "cell_type": "code",
   "execution_count": 93,
   "metadata": {},
   "outputs": [
    {
     "name": "stdout",
     "output_type": "stream",
     "text": [
      "Accuracy: 0.6666666666666666\n"
     ]
    }
   ],
   "source": [
    "metrics.accuracy_score(y_test, y_pred_class)\n",
    "print('Accuracy:', accuracy)"
   ]
  },
  {
   "cell_type": "code",
   "execution_count": 92,
   "metadata": {},
   "outputs": [
    {
     "data": {
      "text/plain": [
       "array(['1'], dtype=object)"
      ]
     },
     "execution_count": 92,
     "metadata": {},
     "output_type": "execute_result"
    }
   ],
   "source": [
    "new_article = ['The eleven year old sat in his wheelchair his right']\n",
    "new_article_vect = vect.transform(new_article)\n",
    "clf.predict(new_article_vect)\n"
   ]
  },
  {
   "cell_type": "markdown",
   "metadata": {},
   "source": [
    "## Clustering (Data)"
   ]
  },
  {
   "cell_type": "code",
   "execution_count": 8,
   "metadata": {},
   "outputs": [
    {
     "data": {
      "text/html": [
       "<div>\n",
       "<style scoped>\n",
       "    .dataframe tbody tr th:only-of-type {\n",
       "        vertical-align: middle;\n",
       "    }\n",
       "\n",
       "    .dataframe tbody tr th {\n",
       "        vertical-align: top;\n",
       "    }\n",
       "\n",
       "    .dataframe thead th {\n",
       "        text-align: right;\n",
       "    }\n",
       "</style>\n",
       "<table border=\"1\" class=\"dataframe\">\n",
       "  <thead>\n",
       "    <tr style=\"text-align: right;\">\n",
       "      <th></th>\n",
       "      <th>text</th>\n",
       "    </tr>\n",
       "  </thead>\n",
       "  <tbody>\n",
       "    <tr>\n",
       "      <th>0</th>\n",
       "      <td>In the living room of a house in Banjarmasin S...</td>\n",
       "    </tr>\n",
       "    <tr>\n",
       "      <th>1</th>\n",
       "      <td>The eleven year old sat in his wheelchair his ...</td>\n",
       "    </tr>\n",
       "    <tr>\n",
       "      <th>2</th>\n",
       "      <td>Zakaria who hails from Barabai in Hulu Sungai ...</td>\n",
       "    </tr>\n",
       "    <tr>\n",
       "      <th>3</th>\n",
       "      <td>His mother Masrah took him to the provincial c...</td>\n",
       "    </tr>\n",
       "    <tr>\n",
       "      <th>4</th>\n",
       "      <td>For the past two weeks both had been staying a...</td>\n",
       "    </tr>\n",
       "    <tr>\n",
       "      <th>5</th>\n",
       "      <td>We have to go back and forth to the hospital s...</td>\n",
       "    </tr>\n",
       "    <tr>\n",
       "      <th>6</th>\n",
       "      <td>At the shelter five other young patients were ...</td>\n",
       "    </tr>\n",
       "    <tr>\n",
       "      <th>7</th>\n",
       "      <td>All of them were from lower middleclass famili...</td>\n",
       "    </tr>\n",
       "    <tr>\n",
       "      <th>8</th>\n",
       "      <td>Herma suffers from leukemia and has undergone ...</td>\n",
       "    </tr>\n",
       "    <tr>\n",
       "      <th>9</th>\n",
       "      <td>I took her to Ulin Hospital on reference from ...</td>\n",
       "    </tr>\n",
       "    <tr>\n",
       "      <th>10</th>\n",
       "      <td>Hermas doctors said she had to receive regular...</td>\n",
       "    </tr>\n",
       "    <tr>\n",
       "      <th>11</th>\n",
       "      <td>After six months of medical treatment Heri sai...</td>\n",
       "    </tr>\n",
       "    <tr>\n",
       "      <th>12</th>\n",
       "      <td>But the doctor advised us to stay in Banjarmas...</td>\n",
       "    </tr>\n",
       "    <tr>\n",
       "      <th>13</th>\n",
       "      <td>Heri was hopeful that her daughter would make ...</td>\n",
       "    </tr>\n",
       "    <tr>\n",
       "      <th>14</th>\n",
       "      <td>At first the man who worked as a truck driver ...</td>\n",
       "    </tr>\n",
       "    <tr>\n",
       "      <th>15</th>\n",
       "      <td>But a nurse they came across in the Ulin Hospi...</td>\n",
       "    </tr>\n",
       "    <tr>\n",
       "      <th>16</th>\n",
       "      <td>It provides free accommodation for cancer pati...</td>\n",
       "    </tr>\n",
       "    <tr>\n",
       "      <th>17</th>\n",
       "      <td>Heri took the nurses advice and moved in January</td>\n",
       "    </tr>\n",
       "    <tr>\n",
       "      <th>18</th>\n",
       "      <td>Not only did they get a place to stay the shel...</td>\n",
       "    </tr>\n",
       "    <tr>\n",
       "      <th>19</th>\n",
       "      <td>Im thankful that we can stay here Heri said</td>\n",
       "    </tr>\n",
       "    <tr>\n",
       "      <th>20</th>\n",
       "      <td>He added that Hermas treatment was paid for by...</td>\n",
       "    </tr>\n",
       "  </tbody>\n",
       "</table>\n",
       "</div>"
      ],
      "text/plain": [
       "                                                 text\n",
       "0   In the living room of a house in Banjarmasin S...\n",
       "1   The eleven year old sat in his wheelchair his ...\n",
       "2   Zakaria who hails from Barabai in Hulu Sungai ...\n",
       "3   His mother Masrah took him to the provincial c...\n",
       "4   For the past two weeks both had been staying a...\n",
       "5   We have to go back and forth to the hospital s...\n",
       "6   At the shelter five other young patients were ...\n",
       "7   All of them were from lower middleclass famili...\n",
       "8   Herma suffers from leukemia and has undergone ...\n",
       "9   I took her to Ulin Hospital on reference from ...\n",
       "10  Hermas doctors said she had to receive regular...\n",
       "11  After six months of medical treatment Heri sai...\n",
       "12  But the doctor advised us to stay in Banjarmas...\n",
       "13  Heri was hopeful that her daughter would make ...\n",
       "14  At first the man who worked as a truck driver ...\n",
       "15  But a nurse they came across in the Ulin Hospi...\n",
       "16  It provides free accommodation for cancer pati...\n",
       "17   Heri took the nurses advice and moved in January\n",
       "18  Not only did they get a place to stay the shel...\n",
       "19        Im thankful that we can stay here Heri said\n",
       "20  He added that Hermas treatment was paid for by..."
      ]
     },
     "execution_count": 8,
     "metadata": {},
     "output_type": "execute_result"
    }
   ],
   "source": [
    "\n",
    "cluster_data = pd.DataFrame(Data,columns=['text'])\n",
    "cluster_data\n"
   ]
  },
  {
   "cell_type": "code",
   "execution_count": 9,
   "metadata": {},
   "outputs": [
    {
     "name": "stdout",
     "output_type": "stream",
     "text": [
      "(21,)\n"
     ]
    }
   ],
   "source": [
    "X = cluster_data.text\n",
    "print(X.shape)"
   ]
  },
  {
   "cell_type": "code",
   "execution_count": 10,
   "metadata": {},
   "outputs": [
    {
     "data": {
      "text/plain": [
       "<21x190 sparse matrix of type '<class 'numpy.int64'>'\n",
       "\twith 325 stored elements in Compressed Sparse Row format>"
      ]
     },
     "execution_count": 10,
     "metadata": {},
     "output_type": "execute_result"
    }
   ],
   "source": [
    "vect.fit(X)\n",
    "tes = vect.transform(X)\n",
    "tes"
   ]
  },
  {
   "cell_type": "code",
   "execution_count": 15,
   "metadata": {},
   "outputs": [],
   "source": [
    "from scipy.spatial import distance\n",
    "\n",
    "def compute_s(i, x, labels, clusters):\n",
    "\tnorm_c= len(clusters)\n",
    "\ts = 0\n",
    "\tfor x in clusters:\n",
    "\t\t# print x\n",
    "\t\ts += distance.euclidean(x, clusters[i])\n",
    "\treturn s\n",
    "\n",
    "def compute_Rij(i, j, x, labels, clusters, nc):\n",
    "\tRij = 0\n",
    "\ttry:\n",
    "\t\t# print \"h\"\n",
    "\t\td = distance.euclidean(clusters[i],clusters[j])\n",
    "\t\t# print d\n",
    "\t\tRij = (compute_s(i, x, labels, clusters) + compute_s(j, x, labels, clusters))/d\n",
    "\t\t# print Rij\n",
    "\texcept:\n",
    "\t\tRij = 0\t\n",
    "\treturn Rij\n",
    "\n",
    "def compute_R(i, x, labels, clusters, nc): \n",
    "\tlist_r = []\n",
    "\tfor i in range(nc):\n",
    "\t\tfor j in range(nc):\n",
    "\t\t\tif(i!=j):\n",
    "\t\t\t\ttemp = compute_Rij(i, j, x, labels, clusters, nc)\n",
    "\t\t\t\tlist_r.append(temp)\n",
    "\n",
    "\treturn max(list_r)\n",
    "\n",
    "def compute_DB_index(x, labels, clusters, nc):\n",
    "\t# print x\n",
    "\tsigma_R = 0.0\n",
    "\tfor i in range(nc):\n",
    "\t\tsigma_R = sigma_R + compute_R(i, x, labels, clusters, nc)\n",
    "\n",
    "\tDB_index = float(sigma_R)/float(nc) \n",
    "\treturn DB_index"
   ]
  },
  {
   "cell_type": "markdown",
   "metadata": {},
   "source": [
    "## K-Means"
   ]
  },
  {
   "cell_type": "code",
   "execution_count": 39,
   "metadata": {},
   "outputs": [
    {
     "data": {
      "text/plain": [
       "array([1, 1, 1, 0, 1, 0, 1, 1, 1, 0, 1, 1, 0, 1, 0, 0, 1, 1, 0, 1, 1])"
      ]
     },
     "execution_count": 39,
     "metadata": {},
     "output_type": "execute_result"
    }
   ],
   "source": [
    "from sklearn.cluster import KMeans\n",
    "kmeans = KMeans(n_clusters=2, random_state=0).fit(tes)\n",
    "cek = kmeans.labels_\n",
    "cek"
   ]
  },
  {
   "cell_type": "code",
   "execution_count": 106,
   "metadata": {},
   "outputs": [
    {
     "data": {
      "text/html": [
       "<div>\n",
       "<style scoped>\n",
       "    .dataframe tbody tr th:only-of-type {\n",
       "        vertical-align: middle;\n",
       "    }\n",
       "\n",
       "    .dataframe tbody tr th {\n",
       "        vertical-align: top;\n",
       "    }\n",
       "\n",
       "    .dataframe thead th {\n",
       "        text-align: right;\n",
       "    }\n",
       "</style>\n",
       "<table border=\"1\" class=\"dataframe\">\n",
       "  <thead>\n",
       "    <tr style=\"text-align: right;\">\n",
       "      <th></th>\n",
       "      <th>text</th>\n",
       "      <th>Hasil Cluster</th>\n",
       "    </tr>\n",
       "  </thead>\n",
       "  <tbody>\n",
       "    <tr>\n",
       "      <th>0</th>\n",
       "      <td>In the living room of a house in Banjarmasin S...</td>\n",
       "      <td>0</td>\n",
       "    </tr>\n",
       "    <tr>\n",
       "      <th>1</th>\n",
       "      <td>The eleven year old sat in his wheelchair his ...</td>\n",
       "      <td>0</td>\n",
       "    </tr>\n",
       "    <tr>\n",
       "      <th>2</th>\n",
       "      <td>Zakaria who hails from Barabai in Hulu Sungai ...</td>\n",
       "      <td>0</td>\n",
       "    </tr>\n",
       "    <tr>\n",
       "      <th>3</th>\n",
       "      <td>His mother Masrah took him to the provincial c...</td>\n",
       "      <td>0</td>\n",
       "    </tr>\n",
       "    <tr>\n",
       "      <th>4</th>\n",
       "      <td>For the past two weeks both had been staying a...</td>\n",
       "      <td>0</td>\n",
       "    </tr>\n",
       "    <tr>\n",
       "      <th>5</th>\n",
       "      <td>We have to go back and forth to the hospital s...</td>\n",
       "      <td>1</td>\n",
       "    </tr>\n",
       "    <tr>\n",
       "      <th>6</th>\n",
       "      <td>At the shelter five other young patients were ...</td>\n",
       "      <td>0</td>\n",
       "    </tr>\n",
       "    <tr>\n",
       "      <th>7</th>\n",
       "      <td>All of them were from lower middleclass famili...</td>\n",
       "      <td>0</td>\n",
       "    </tr>\n",
       "    <tr>\n",
       "      <th>8</th>\n",
       "      <td>Herma suffers from leukemia and has undergone ...</td>\n",
       "      <td>0</td>\n",
       "    </tr>\n",
       "    <tr>\n",
       "      <th>9</th>\n",
       "      <td>I took her to Ulin Hospital on reference from ...</td>\n",
       "      <td>0</td>\n",
       "    </tr>\n",
       "    <tr>\n",
       "      <th>10</th>\n",
       "      <td>Hermas doctors said she had to receive regular...</td>\n",
       "      <td>0</td>\n",
       "    </tr>\n",
       "    <tr>\n",
       "      <th>11</th>\n",
       "      <td>After six months of medical treatment Heri sai...</td>\n",
       "      <td>0</td>\n",
       "    </tr>\n",
       "    <tr>\n",
       "      <th>12</th>\n",
       "      <td>But the doctor advised us to stay in Banjarmas...</td>\n",
       "      <td>0</td>\n",
       "    </tr>\n",
       "    <tr>\n",
       "      <th>13</th>\n",
       "      <td>Heri was hopeful that her daughter would make ...</td>\n",
       "      <td>0</td>\n",
       "    </tr>\n",
       "    <tr>\n",
       "      <th>14</th>\n",
       "      <td>At first the man who worked as a truck driver ...</td>\n",
       "      <td>2</td>\n",
       "    </tr>\n",
       "    <tr>\n",
       "      <th>15</th>\n",
       "      <td>But a nurse they came across in the Ulin Hospi...</td>\n",
       "      <td>0</td>\n",
       "    </tr>\n",
       "    <tr>\n",
       "      <th>16</th>\n",
       "      <td>It provides free accommodation for cancer pati...</td>\n",
       "      <td>0</td>\n",
       "    </tr>\n",
       "    <tr>\n",
       "      <th>17</th>\n",
       "      <td>Heri took the nurses advice and moved in January</td>\n",
       "      <td>0</td>\n",
       "    </tr>\n",
       "    <tr>\n",
       "      <th>18</th>\n",
       "      <td>Not only did they get a place to stay the shel...</td>\n",
       "      <td>1</td>\n",
       "    </tr>\n",
       "    <tr>\n",
       "      <th>19</th>\n",
       "      <td>Im thankful that we can stay here Heri said</td>\n",
       "      <td>0</td>\n",
       "    </tr>\n",
       "    <tr>\n",
       "      <th>20</th>\n",
       "      <td>He added that Hermas treatment was paid for by...</td>\n",
       "      <td>0</td>\n",
       "    </tr>\n",
       "  </tbody>\n",
       "</table>\n",
       "</div>"
      ],
      "text/plain": [
       "                                                 text  Hasil Cluster\n",
       "0   In the living room of a house in Banjarmasin S...              0\n",
       "1   The eleven year old sat in his wheelchair his ...              0\n",
       "2   Zakaria who hails from Barabai in Hulu Sungai ...              0\n",
       "3   His mother Masrah took him to the provincial c...              0\n",
       "4   For the past two weeks both had been staying a...              0\n",
       "5   We have to go back and forth to the hospital s...              1\n",
       "6   At the shelter five other young patients were ...              0\n",
       "7   All of them were from lower middleclass famili...              0\n",
       "8   Herma suffers from leukemia and has undergone ...              0\n",
       "9   I took her to Ulin Hospital on reference from ...              0\n",
       "10  Hermas doctors said she had to receive regular...              0\n",
       "11  After six months of medical treatment Heri sai...              0\n",
       "12  But the doctor advised us to stay in Banjarmas...              0\n",
       "13  Heri was hopeful that her daughter would make ...              0\n",
       "14  At first the man who worked as a truck driver ...              2\n",
       "15  But a nurse they came across in the Ulin Hospi...              0\n",
       "16  It provides free accommodation for cancer pati...              0\n",
       "17   Heri took the nurses advice and moved in January              0\n",
       "18  Not only did they get a place to stay the shel...              1\n",
       "19        Im thankful that we can stay here Heri said              0\n",
       "20  He added that Hermas treatment was paid for by...              0"
      ]
     },
     "execution_count": 106,
     "metadata": {},
     "output_type": "execute_result"
    }
   ],
   "source": [
    "dfd=pd.DataFrame(cek, columns=['Hasil Cluster']) \n",
    "result = pd.concat([cluster_data,dfd], axis=1, sort=False)\n",
    "result"
   ]
  },
  {
   "cell_type": "code",
   "execution_count": 70,
   "metadata": {},
   "outputs": [
    {
     "name": "stdout",
     "output_type": "stream",
     "text": [
      "The value of Davies Bouldin index for a K-Means cluser of size 2 is: 2.0\n"
     ]
    }
   ],
   "source": [
    "centroids = kmeans.cluster_centers_\n",
    "labels = kmeans.labels_\n",
    "index_db_val = compute_DB_index(tes, labels, centroids, n)\n",
    "print (\"The value of Davies Bouldin index for a K-Means cluser of size \" + str(n) + \" is: \" + str(index_db_val))"
   ]
  },
  {
   "cell_type": "markdown",
   "metadata": {},
   "source": [
    "## Spectral Clustering"
   ]
  },
  {
   "cell_type": "code",
   "execution_count": 46,
   "metadata": {},
   "outputs": [
    {
     "data": {
      "text/plain": [
       "array([0, 0, 1, 0, 0, 2, 0, 0, 0, 0, 1, 1, 1, 2, 1, 0, 1, 0, 0, 2, 1],\n",
       "      dtype=int32)"
      ]
     },
     "execution_count": 46,
     "metadata": {},
     "output_type": "execute_result"
    }
   ],
   "source": [
    "from sklearn.cluster import SpectralClustering\n",
    "clustering = SpectralClustering(n_clusters=3,assign_labels=\"discretize\",random_state=0).fit(tes)\n",
    "cek1 = clustering.labels_\n",
    "cek1"
   ]
  },
  {
   "cell_type": "code",
   "execution_count": 107,
   "metadata": {},
   "outputs": [
    {
     "data": {
      "text/html": [
       "<div>\n",
       "<style scoped>\n",
       "    .dataframe tbody tr th:only-of-type {\n",
       "        vertical-align: middle;\n",
       "    }\n",
       "\n",
       "    .dataframe tbody tr th {\n",
       "        vertical-align: top;\n",
       "    }\n",
       "\n",
       "    .dataframe thead th {\n",
       "        text-align: right;\n",
       "    }\n",
       "</style>\n",
       "<table border=\"1\" class=\"dataframe\">\n",
       "  <thead>\n",
       "    <tr style=\"text-align: right;\">\n",
       "      <th></th>\n",
       "      <th>text</th>\n",
       "      <th>Hasil Cluster</th>\n",
       "    </tr>\n",
       "  </thead>\n",
       "  <tbody>\n",
       "    <tr>\n",
       "      <th>0</th>\n",
       "      <td>In the living room of a house in Banjarmasin S...</td>\n",
       "      <td>0</td>\n",
       "    </tr>\n",
       "    <tr>\n",
       "      <th>1</th>\n",
       "      <td>The eleven year old sat in his wheelchair his ...</td>\n",
       "      <td>0</td>\n",
       "    </tr>\n",
       "    <tr>\n",
       "      <th>2</th>\n",
       "      <td>Zakaria who hails from Barabai in Hulu Sungai ...</td>\n",
       "      <td>1</td>\n",
       "    </tr>\n",
       "    <tr>\n",
       "      <th>3</th>\n",
       "      <td>His mother Masrah took him to the provincial c...</td>\n",
       "      <td>0</td>\n",
       "    </tr>\n",
       "    <tr>\n",
       "      <th>4</th>\n",
       "      <td>For the past two weeks both had been staying a...</td>\n",
       "      <td>0</td>\n",
       "    </tr>\n",
       "    <tr>\n",
       "      <th>5</th>\n",
       "      <td>We have to go back and forth to the hospital s...</td>\n",
       "      <td>2</td>\n",
       "    </tr>\n",
       "    <tr>\n",
       "      <th>6</th>\n",
       "      <td>At the shelter five other young patients were ...</td>\n",
       "      <td>0</td>\n",
       "    </tr>\n",
       "    <tr>\n",
       "      <th>7</th>\n",
       "      <td>All of them were from lower middleclass famili...</td>\n",
       "      <td>0</td>\n",
       "    </tr>\n",
       "    <tr>\n",
       "      <th>8</th>\n",
       "      <td>Herma suffers from leukemia and has undergone ...</td>\n",
       "      <td>0</td>\n",
       "    </tr>\n",
       "    <tr>\n",
       "      <th>9</th>\n",
       "      <td>I took her to Ulin Hospital on reference from ...</td>\n",
       "      <td>0</td>\n",
       "    </tr>\n",
       "    <tr>\n",
       "      <th>10</th>\n",
       "      <td>Hermas doctors said she had to receive regular...</td>\n",
       "      <td>1</td>\n",
       "    </tr>\n",
       "    <tr>\n",
       "      <th>11</th>\n",
       "      <td>After six months of medical treatment Heri sai...</td>\n",
       "      <td>1</td>\n",
       "    </tr>\n",
       "    <tr>\n",
       "      <th>12</th>\n",
       "      <td>But the doctor advised us to stay in Banjarmas...</td>\n",
       "      <td>1</td>\n",
       "    </tr>\n",
       "    <tr>\n",
       "      <th>13</th>\n",
       "      <td>Heri was hopeful that her daughter would make ...</td>\n",
       "      <td>2</td>\n",
       "    </tr>\n",
       "    <tr>\n",
       "      <th>14</th>\n",
       "      <td>At first the man who worked as a truck driver ...</td>\n",
       "      <td>1</td>\n",
       "    </tr>\n",
       "    <tr>\n",
       "      <th>15</th>\n",
       "      <td>But a nurse they came across in the Ulin Hospi...</td>\n",
       "      <td>0</td>\n",
       "    </tr>\n",
       "    <tr>\n",
       "      <th>16</th>\n",
       "      <td>It provides free accommodation for cancer pati...</td>\n",
       "      <td>1</td>\n",
       "    </tr>\n",
       "    <tr>\n",
       "      <th>17</th>\n",
       "      <td>Heri took the nurses advice and moved in January</td>\n",
       "      <td>0</td>\n",
       "    </tr>\n",
       "    <tr>\n",
       "      <th>18</th>\n",
       "      <td>Not only did they get a place to stay the shel...</td>\n",
       "      <td>0</td>\n",
       "    </tr>\n",
       "    <tr>\n",
       "      <th>19</th>\n",
       "      <td>Im thankful that we can stay here Heri said</td>\n",
       "      <td>2</td>\n",
       "    </tr>\n",
       "    <tr>\n",
       "      <th>20</th>\n",
       "      <td>He added that Hermas treatment was paid for by...</td>\n",
       "      <td>1</td>\n",
       "    </tr>\n",
       "  </tbody>\n",
       "</table>\n",
       "</div>"
      ],
      "text/plain": [
       "                                                 text  Hasil Cluster\n",
       "0   In the living room of a house in Banjarmasin S...              0\n",
       "1   The eleven year old sat in his wheelchair his ...              0\n",
       "2   Zakaria who hails from Barabai in Hulu Sungai ...              1\n",
       "3   His mother Masrah took him to the provincial c...              0\n",
       "4   For the past two weeks both had been staying a...              0\n",
       "5   We have to go back and forth to the hospital s...              2\n",
       "6   At the shelter five other young patients were ...              0\n",
       "7   All of them were from lower middleclass famili...              0\n",
       "8   Herma suffers from leukemia and has undergone ...              0\n",
       "9   I took her to Ulin Hospital on reference from ...              0\n",
       "10  Hermas doctors said she had to receive regular...              1\n",
       "11  After six months of medical treatment Heri sai...              1\n",
       "12  But the doctor advised us to stay in Banjarmas...              1\n",
       "13  Heri was hopeful that her daughter would make ...              2\n",
       "14  At first the man who worked as a truck driver ...              1\n",
       "15  But a nurse they came across in the Ulin Hospi...              0\n",
       "16  It provides free accommodation for cancer pati...              1\n",
       "17   Heri took the nurses advice and moved in January              0\n",
       "18  Not only did they get a place to stay the shel...              0\n",
       "19        Im thankful that we can stay here Heri said              2\n",
       "20  He added that Hermas treatment was paid for by...              1"
      ]
     },
     "execution_count": 107,
     "metadata": {},
     "output_type": "execute_result"
    }
   ],
   "source": [
    "dfd1=pd.DataFrame(cek1, columns=['Hasil Cluster']) \n",
    "result = pd.concat([cluster_data,dfd1], axis=1, sort=False)\n",
    "result"
   ]
  },
  {
   "cell_type": "code",
   "execution_count": null,
   "metadata": {},
   "outputs": [],
   "source": []
  }
 ],
 "metadata": {
  "kernelspec": {
   "display_name": "Python 3",
   "language": "python",
   "name": "python3"
  },
  "language_info": {
   "codemirror_mode": {
    "name": "ipython",
    "version": 3
   },
   "file_extension": ".py",
   "mimetype": "text/x-python",
   "name": "python",
   "nbconvert_exporter": "python",
   "pygments_lexer": "ipython3",
   "version": "3.7.0"
  }
 },
 "nbformat": 4,
 "nbformat_minor": 2
}
