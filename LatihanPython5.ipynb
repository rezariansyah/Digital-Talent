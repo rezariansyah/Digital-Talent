{
 "cells": [
  {
   "cell_type": "markdown",
   "metadata": {},
   "source": [
    "# LATIHAN 2 - Tugas List Nilai\n",
    "\n",
    "Diberikan sekumpulan Nilai Random antara 0 sampai dengan 100 sebanyak 250 nilai. Buatlah program untuk melakukan hal berikut:\n",
    "1. Tampilkan Angka Ganjil dari ke 250 nilai tersebut\n",
    "2. Tampilkan berapa banyak yang mendapatkan nilai lebih dari 70\n",
    "3. Tampilkan standar deviasi dari sekumpulan nilai tersebut\n",
    "4. Tampilkan nilai maksimum dan minimum\n",
    "5. Tampilkan modus dari sekumpulan nilai tersebut"
   ]
  },
  {
   "cell_type": "code",
   "execution_count": 4,
   "metadata": {},
   "outputs": [
    {
     "name": "stdout",
     "output_type": "stream",
     "text": [
      "Kumpulan Nilai Random :\n",
      "[10, 3, 18, 20, 42, 24, 74, 54, 22, 89, 67, 93, 96, 58, 82, 33, 53, 43, 11, 60, 6, 23, 58, 20, 6, 65, 46, 91, 33, 95, 73, 67, 89, 49, 21, 36, 33, 26, 79, 79, 32, 80, 12, 36, 75, 11, 66, 4, 9, 18, 8, 83, 45, 15, 95, 42, 7, 41, 69, 95, 30, 34, 53, 81, 48, 88, 83, 19, 49, 35, 48, 44, 57, 17, 40, 39, 80, 15, 73, 98, 44, 70, 82, 83, 15, 47, 71, 68, 70, 13, 45, 69, 37, 90, 59, 2, 17, 74, 16, 84, 19, 19, 90, 96, 50, 51, 99, 63, 33, 55, 8, 22, 14, 57, 88, 54, 11, 34, 35, 93, 16, 10, 93, 21, 25, 66, 94, 78, 45, 34, 42, 53, 90, 77, 64, 66, 34, 98, 38, 8, 90, 28, 12, 72, 58, 24, 15, 2, 1, 54, 86, 66, 62, 86, 48, 97, 55, 81, 97, 62, 54, 8, 18, 3, 79, 88, 2, 58, 8, 92, 77, 99, 95, 23, 62, 69, 4, 90, 38, 71, 25, 18, 65, 23, 1, 17, 82, 48, 87, 69, 87, 98, 52, 57, 16, 32, 83, 42, 47, 91, 26, 79, 88, 8, 68, 77, 23, 14, 18, 75, 82, 61, 43, 13, 64, 73, 35, 31, 80, 32, 83, 3, 83, 34, 86, 50, 43, 91, 84, 71, 1, 17, 7, 96, 45, 29, 58, 11, 46, 98, 96, 76, 66, 20, 19, 75, 51, 64, 58, 15]\n",
      "jumlah Nilai Random :  250\n",
      "\n",
      "Nilai yang bernilai ganjil adalah :\n",
      "[3, 89, 67, 93, 33, 53, 43, 11, 23, 65, 91, 33, 95, 73, 67, 89, 49, 21, 33, 79, 79, 75, 11, 9, 83, 45, 15, 95, 7, 41, 69, 95, 53, 81, 83, 19, 49, 35, 57, 17, 39, 15, 73, 83, 15, 47, 71, 13, 45, 69, 37, 59, 17, 19, 19, 51, 99, 63, 33, 55, 57, 11, 35, 93, 93, 21, 25, 45, 53, 77, 15, 1, 97, 55, 81, 97, 3, 79, 77, 99, 95, 23, 69, 71, 25, 65, 23, 1, 17, 87, 69, 87, 57, 83, 47, 91, 79, 77, 23, 75, 61, 43, 13, 73, 35, 31, 83, 3, 83, 43, 91, 71, 1, 17, 7, 45, 29, 11, 19, 75, 51, 15]\n",
      "jumlah nilai ganjil :  122 \n",
      "\n",
      "Nilai yang lebih dari 70 adalah :\n",
      "[74, 89, 93, 96, 82, 91, 95, 73, 89, 79, 79, 80, 75, 83, 95, 95, 81, 88, 83, 80, 73, 98, 82, 83, 71, 90, 74, 84, 90, 96, 99, 88, 93, 93, 94, 78, 90, 77, 98, 90, 72, 86, 86, 97, 81, 97, 79, 88, 92, 77, 99, 95, 90, 71, 82, 87, 87, 98, 83, 91, 79, 88, 77, 75, 82, 73, 80, 83, 83, 86, 91, 84, 71, 96, 98, 96, 76, 75]\n",
      "Jumlah nilai yang lebih dari 70 adalah : 78\n",
      "\n",
      "Nilai rata-rata \t\t: 50.64\n",
      "Nilai Varian  \t\t\t: 869.0907630522087\n",
      "Nilai Standar Deviasi \t\t: 29.480345368604635\n",
      "\n",
      "Nilai Maksimum data adalah \t: 99\n",
      "Nilai Minimum data adalah \t: 1\n",
      "\n",
      "Modus nilai adalah \t\t: [58, 8, 83]\n",
      "Sebanyak \t\t\t: 6  Kali Muncul\n"
     ]
    }
   ],
   "source": [
    "import random\n",
    "\n",
    "# GENERATE RANDOM\n",
    "nilaiTugas = []\n",
    "for i in range(250):\n",
    "    nilaiTugas.append(random.randrange(1,100,1))\n",
    "\n",
    "print ('Kumpulan Nilai Random :')\n",
    "print(nilaiTugas)\n",
    "print ('jumlah Nilai Random : ',len(nilaiTugas))\n",
    "print ('')\n",
    "print ('Nilai yang bernilai ganjil adalah :')\n",
    "nilai = []\n",
    "for n in nilaiTugas :\n",
    "    if n % 2 == 1 :\n",
    "        nilai.append(n)    \n",
    "\n",
    "print(nilai)\n",
    "print ('jumlah nilai ganjil : ',len(nilai),'\\n')\n",
    "\n",
    "print ('Nilai yang lebih dari 70 adalah :')\n",
    "lebih = []\n",
    "for n in  nilaiTugas :\n",
    "    if n>70 :\n",
    "        lebih.append(n)\n",
    "print (lebih)\n",
    "        \n",
    "print('Jumlah nilai yang lebih dari 70 adalah :',len(lebih))\n",
    "total = 0\n",
    "totalrata =0\n",
    "for n in nilaiTugas :\n",
    "    total += n\n",
    "rata = total / len(nilaiTugas)\n",
    "print ('\\nNilai rata-rata \\t\\t:',rata)\n",
    "for n in nilaiTugas :\n",
    "    totalrata += ((n-rata)**2)\n",
    "vari = (totalrata/(len(nilaiTugas)-1)) \n",
    "stdv = (vari)** (1/2)\n",
    "print ('Nilai Varian  \\t\\t\\t:',vari)\n",
    "print ('Nilai Standar Deviasi \\t\\t:',stdv)\n",
    "\n",
    "maks = 0\n",
    "mini = 100\n",
    "for n in nilaiTugas :\n",
    "    if n > maks :\n",
    "        maks = n\n",
    "print ('\\nNilai Maksimum data adalah \\t:',maks)\n",
    "\n",
    "for m in nilaiTugas :\n",
    "    if m < mini :\n",
    "        mini = m\n",
    "print ('Nilai Minimum data adalah \\t:',mini)\n",
    "muncul = 0\n",
    "temp = {}\n",
    "modus = []\n",
    "for n in nilaiTugas :\n",
    "    if n in temp :\n",
    "        temp [n] += 1\n",
    "    else :\n",
    "        temp [n]  = 1\n",
    "for f,g in temp.items() :\n",
    "    if g > muncul:\n",
    "        muncul = g\n",
    "for f,g in temp.items() :\n",
    "    if muncul == g:\n",
    "        modus.append(f)\n",
    "\n",
    "print ('\\nModus nilai adalah \\t\\t:',modus)\n",
    "print ('Sebanyak \\t\\t\\t:',muncul,' Kali Muncul')\n"
   ]
  },
  {
   "cell_type": "markdown",
   "metadata": {},
   "source": [
    "# LATIHAN 3 - Word Count"
   ]
  },
  {
   "cell_type": "code",
   "execution_count": 14,
   "metadata": {},
   "outputs": [
    {
     "name": "stdout",
     "output_type": "stream",
     "text": [
      "Paragraf yang digunakan :\n",
      "    Barcelona berhasil merebut posisi puncak klasemen La Liga Spanyol seusai menang 4-2 atas Sevilla pada pertandingan pekan kesembilan di Stadion Camp Nou, Sabtu (20/10/2018) atau Minggu dini hari WIB. Barcelona membuka keunggulan pada menit ke-2 melalui gol yang dicetak oleh Philippe Coutinho. Lionel Messi menggandakan keunggulan Barcelona, 10 menit berselang.  Namun, nahas bagi Barcelona, karena Messi harus ditarik keluar pada menit ke-26 setelah mengalami cedera. Tanpa Messi, skor 2-0 bertahan hingga babak pertama berakhir.\n",
      "\n",
      "Munculnya masing-masing kata :  {'Barcelona': 4, 'berhasil': 1, 'merebut': 1, 'posisi': 1, 'puncak': 1, 'klasemen': 1, 'La': 1, 'Liga': 1, 'Spanyol': 1, 'seusai': 1, 'menang': 1, '4-2': 1, 'atas': 1, 'Sevilla': 1, 'pada': 3, 'pertandingan': 1, 'pekan': 1, 'kesembilan': 1, 'di': 1, 'Stadion': 1, 'Camp': 1, 'Nou': 1, 'Sabtu': 1, '(20/10/2018)': 1, 'atau': 1, 'Minggu': 1, 'dini': 1, 'hari': 1, 'WIB': 1, 'membuka': 1, 'keunggulan': 2, 'menit': 3, 'ke-2': 1, 'melalui': 1, 'gol': 1, 'yang': 1, 'dicetak': 1, 'oleh': 1, 'Philippe': 1, 'Coutinho': 1, 'Lionel': 1, 'Messi': 3, 'menggandakan': 1, '10': 1, 'berselang': 1, 'Namun': 1, 'nahas': 1, 'bagi': 1, 'karena': 1, 'harus': 1, 'ditarik': 1, 'keluar': 1, 'ke-26': 1, 'setelah': 1, 'mengalami': 1, 'cedera': 1, 'Tanpa': 1, 'skor': 1, '2-0': 1, 'bertahan': 1, 'hingga': 1, 'babak': 1, 'pertama': 1, 'berakhir': 1}\n"
     ]
    }
   ],
   "source": [
    "kata = {}\n",
    "paragraf = \"Barcelona berhasil merebut posisi puncak klasemen La Liga Spanyol seusai menang 4-2 atas Sevilla pada pertandingan pekan kesembilan di Stadion Camp Nou, Sabtu (20/10/2018) atau Minggu dini hari WIB. Barcelona membuka keunggulan pada menit ke-2 melalui gol yang dicetak oleh Philippe Coutinho. Lionel Messi menggandakan keunggulan Barcelona, 10 menit berselang.  Namun, nahas bagi Barcelona, karena Messi harus ditarik keluar pada menit ke-26 setelah mengalami cedera. Tanpa Messi, skor 2-0 bertahan hingga babak pertama berakhir.\"\n",
    "print('Paragraf yang digunakan :\\n   ',paragraf)\n",
    "paragraf = paragraf.replace((','),(''))\n",
    "paragraf = paragraf.replace(('.'),(''))\n",
    "paragraf = paragraf.split ()\n",
    "for p in paragraf :\n",
    "    if p in kata :\n",
    "        kata [p] += 1\n",
    "    else :\n",
    "        kata [p] =1\n",
    "print ('\\nMunculnya masing-masing kata : ',kata)"
   ]
  }
 ],
 "metadata": {
  "kernelspec": {
   "display_name": "Python 3",
   "language": "python",
   "name": "python3"
  },
  "language_info": {
   "codemirror_mode": {
    "name": "ipython",
    "version": 3
   },
   "file_extension": ".py",
   "mimetype": "text/x-python",
   "name": "python",
   "nbconvert_exporter": "python",
   "pygments_lexer": "ipython3",
   "version": "3.7.0"
  }
 },
 "nbformat": 4,
 "nbformat_minor": 2
}
